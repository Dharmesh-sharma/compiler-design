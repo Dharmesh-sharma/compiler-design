{
 "cells": [
  {
   "cell_type": "code",
   "execution_count": 3,
   "id": "414cf57e",
   "metadata": {},
   "outputs": [
    {
     "name": "stdout",
     "output_type": "stream",
     "text": [
      "Enter roll number: 19110010183\n",
      "Student belongs to CSE Department\n"
     ]
    }
   ],
   "source": [
    "val = input(\"Enter roll number: \")\n",
    "\n",
    "if val[-3:].startswith(\"18\"):\n",
    "     print(\"Student belongs to CSE Department\")\n",
    "elif val[-3:].startswith(\"11\"):\n",
    "    print(\"Student belongs to IT Department\")\n",
    "elif val[-3:].startswith(\"21\"):\n",
    "    print(\"Student belongs to ECE Department\")\n",
    "else:\n",
    "    print(\"Student not belongs to SRM University\")"
   ]
  },
  {
   "cell_type": "code",
   "execution_count": 4,
   "id": "efc2cd33",
   "metadata": {},
   "outputs": [
    {
     "name": "stdout",
     "output_type": "stream",
     "text": [
      "Enter roll number: 19110010113\n",
      "Student belongs to IT Department\n"
     ]
    }
   ],
   "source": [
    "val = input(\"Enter roll number: \")\n",
    "\n",
    "if val[-3:].startswith(\"18\"):\n",
    "     print(\"Student belongs to CSE Department\")\n",
    "elif val[-3:].startswith(\"11\"):\n",
    "    print(\"Student belongs to IT Department\")\n",
    "elif val[-3:].startswith(\"21\"):\n",
    "    print(\"Student belongs to ECE Department\")\n",
    "else:\n",
    "    print(\"Student not belongs to SRM University\")"
   ]
  },
  {
   "cell_type": "code",
   "execution_count": 9,
   "id": "6727b9b5",
   "metadata": {},
   "outputs": [
    {
     "name": "stdout",
     "output_type": "stream",
     "text": [
      "Enter roll number: 19110010211\n",
      "Student belongs to ECE Department\n"
     ]
    }
   ],
   "source": [
    "val = input(\"Enter roll number: \")\n",
    "\n",
    "if val[-3:].startswith(\"18\"):\n",
    "     print(\"Student belongs to CSE Department\")\n",
    "elif val[-3:].startswith(\"11\"):\n",
    "    print(\"Student belongs to IT Department\")\n",
    "elif val[-3:].startswith(\"21\"):\n",
    "    print(\"Student belongs to ECE Department\")\n",
    "else:\n",
    "    print(\"Student not belongs to SRM University\")"
   ]
  },
  {
   "cell_type": "code",
   "execution_count": 10,
   "id": "3be17391",
   "metadata": {},
   "outputs": [
    {
     "name": "stdout",
     "output_type": "stream",
     "text": [
      "Enter roll number: 19110010183\n",
      "Student belongs to CSE Department\n"
     ]
    }
   ],
   "source": [
    "val = input(\"Enter roll number: \")\n",
    "\n",
    "if val[-3:].startswith(\"18\"):\n",
    "     print(\"Student belongs to CSE Department\")\n",
    "elif val[-3:].startswith(\"11\"):\n",
    "    print(\"Student belongs to IT Department\")\n",
    "elif val[-3:].startswith(\"21\"):\n",
    "    print(\"Student belongs to ECE Department\")\n",
    "else:\n",
    "    print(\"Student not belongs to SRM University\")"
   ]
  },
  {
   "cell_type": "code",
   "execution_count": 11,
   "id": "4bb4a128",
   "metadata": {},
   "outputs": [
    {
     "name": "stdout",
     "output_type": "stream",
     "text": [
      "1804\t\t1808\t\t1812\t\t1816\t\t1820\t\t1824\t\t1828\t\t1832\t\t1836\t\t1840\t\t1844\t\t1848\t\t1852\t\t1856\t\t1860\t\t1864\t\t1868\t\t1872\t\t1876\t\t1880\t\t1884\t\t1888\t\t1892\t\t1896\t\t1904\t\t1908\t\t1912\t\t1916\t\t1920\t\t1924\t\t1928\t\t1932\t\t1936\t\t1940\t\t1944\t\t1948\t\t1952\t\t1956\t\t1960\t\t1964\t\t1968\t\t1972\t\t1976\t\t1980\t\t1984\t\t1988\t\t1992\t\t1996\t\t2000\t\t2004\t\t2008\t\t2012\t\t2016\t\t2020\t\t"
     ]
    }
   ],
   "source": [
    "for i in range(1800,2020+1):\n",
    "    \n",
    "    if (i%4 == 0 and i%100 != 0) or i%400 == 0:\n",
    "        \n",
    "        print(i,end=\"\\t\\t\")"
   ]
  },
  {
   "cell_type": "code",
   "execution_count": null,
   "id": "48b16e0a",
   "metadata": {},
   "outputs": [],
   "source": []
  }
 ],
 "metadata": {
  "kernelspec": {
   "display_name": "Python 3",
   "language": "python",
   "name": "python3"
  },
  "language_info": {
   "codemirror_mode": {
    "name": "ipython",
    "version": 3
   },
   "file_extension": ".py",
   "mimetype": "text/x-python",
   "name": "python",
   "nbconvert_exporter": "python",
   "pygments_lexer": "ipython3",
   "version": "3.8.8"
  }
 },
 "nbformat": 4,
 "nbformat_minor": 5
}
